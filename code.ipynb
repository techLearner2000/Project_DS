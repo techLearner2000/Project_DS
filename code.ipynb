{
 "cells": [
  {
   "cell_type": "markdown",
   "metadata": {},
   "source": [
    "# Library"
   ]
  },
  {
   "cell_type": "code",
   "execution_count": 34,
   "metadata": {},
   "outputs": [],
   "source": [
    "import pandas as pd\n",
    "import numpy as np\n",
    "import matplotlib.pyplot as plt\n",
    "from sklearn import preprocessing\n",
    "from sklearn.model_selection import train_test_split\n",
    "import seaborn as sns\n",
    "from sklearn.linear_model import LogisticRegression\n",
    "from sklearn.tree import DecisionTreeClassifier\n",
    "from sklearn.ensemble import RandomForestClassifier\n",
    "from xgboost import XGBClassifier\n",
    "from sklearn.linear_model import LogisticRegression\n",
    "from sklearn.metrics import classification_report,accuracy_score\n",
    "from sklearn.neural_network import MLPClassifier\n",
    "from sklearn.preprocessing import scale "
   ]
  },
  {
   "cell_type": "markdown",
   "metadata": {},
   "source": [
    "# Read the dataset"
   ]
  },
  {
   "cell_type": "code",
   "execution_count": 35,
   "metadata": {},
   "outputs": [
    {
     "name": "stdout",
     "output_type": "stream",
     "text": [
      "<class 'pandas.core.frame.DataFrame'>\n",
      "RangeIndex: 122410 entries, 0 to 122409\n",
      "Data columns (total 97 columns):\n",
      " #   Column                        Non-Null Count   Dtype  \n",
      "---  ------                        --------------   -----  \n",
      " 0   time_left                     122410 non-null  float64\n",
      " 1   ct_score                      122410 non-null  float64\n",
      " 2   t_score                       122410 non-null  float64\n",
      " 3   map                           122410 non-null  object \n",
      " 4   bomb_planted                  122410 non-null  bool   \n",
      " 5   ct_health                     122410 non-null  float64\n",
      " 6   t_health                      122410 non-null  float64\n",
      " 7   ct_armor                      122410 non-null  float64\n",
      " 8   t_armor                       122410 non-null  float64\n",
      " 9   ct_money                      122410 non-null  float64\n",
      " 10  t_money                       122410 non-null  float64\n",
      " 11  ct_helmets                    122410 non-null  float64\n",
      " 12  t_helmets                     122410 non-null  float64\n",
      " 13  ct_defuse_kits                122410 non-null  float64\n",
      " 14  ct_players_alive              122410 non-null  float64\n",
      " 15  t_players_alive               122410 non-null  float64\n",
      " 16  ct_weapon_ak47                122410 non-null  float64\n",
      " 17  t_weapon_ak47                 122410 non-null  float64\n",
      " 18  ct_weapon_aug                 122410 non-null  float64\n",
      " 19  t_weapon_aug                  122410 non-null  float64\n",
      " 20  ct_weapon_awp                 122410 non-null  float64\n",
      " 21  t_weapon_awp                  122410 non-null  float64\n",
      " 22  ct_weapon_bizon               122410 non-null  float64\n",
      " 23  t_weapon_bizon                122410 non-null  float64\n",
      " 24  ct_weapon_cz75auto            122410 non-null  float64\n",
      " 25  t_weapon_cz75auto             122410 non-null  float64\n",
      " 26  ct_weapon_elite               122410 non-null  float64\n",
      " 27  t_weapon_elite                122410 non-null  float64\n",
      " 28  ct_weapon_famas               122410 non-null  float64\n",
      " 29  t_weapon_famas                122410 non-null  float64\n",
      " 30  ct_weapon_g3sg1               122410 non-null  float64\n",
      " 31  t_weapon_g3sg1                122410 non-null  float64\n",
      " 32  ct_weapon_galilar             122410 non-null  float64\n",
      " 33  t_weapon_galilar              122410 non-null  float64\n",
      " 34  ct_weapon_glock               122410 non-null  float64\n",
      " 35  t_weapon_glock                122410 non-null  float64\n",
      " 36  ct_weapon_m249                122410 non-null  float64\n",
      " 37  t_weapon_m249                 122410 non-null  float64\n",
      " 38  ct_weapon_m4a1s               122410 non-null  float64\n",
      " 39  t_weapon_m4a1s                122410 non-null  float64\n",
      " 40  ct_weapon_m4a4                122410 non-null  float64\n",
      " 41  t_weapon_m4a4                 122410 non-null  float64\n",
      " 42  ct_weapon_mac10               122410 non-null  float64\n",
      " 43  t_weapon_mac10                122410 non-null  float64\n",
      " 44  ct_weapon_mag7                122410 non-null  float64\n",
      " 45  t_weapon_mag7                 122410 non-null  float64\n",
      " 46  ct_weapon_mp5sd               122410 non-null  float64\n",
      " 47  t_weapon_mp5sd                122410 non-null  float64\n",
      " 48  ct_weapon_mp7                 122410 non-null  float64\n",
      " 49  t_weapon_mp7                  122410 non-null  float64\n",
      " 50  ct_weapon_mp9                 122410 non-null  float64\n",
      " 51  t_weapon_mp9                  122410 non-null  float64\n",
      " 52  ct_weapon_negev               122410 non-null  float64\n",
      " 53  t_weapon_negev                122410 non-null  float64\n",
      " 54  ct_weapon_nova                122410 non-null  float64\n",
      " 55  t_weapon_nova                 122410 non-null  float64\n",
      " 56  ct_weapon_p90                 122410 non-null  float64\n",
      " 57  t_weapon_p90                  122410 non-null  float64\n",
      " 58  ct_weapon_r8revolver          122410 non-null  float64\n",
      " 59  t_weapon_r8revolver           122410 non-null  float64\n",
      " 60  ct_weapon_sawedoff            122410 non-null  float64\n",
      " 61  t_weapon_sawedoff             122410 non-null  float64\n",
      " 62  ct_weapon_scar20              122410 non-null  float64\n",
      " 63  t_weapon_scar20               122410 non-null  float64\n",
      " 64  ct_weapon_sg553               122410 non-null  float64\n",
      " 65  t_weapon_sg553                122410 non-null  float64\n",
      " 66  ct_weapon_ssg08               122410 non-null  float64\n",
      " 67  t_weapon_ssg08                122410 non-null  float64\n",
      " 68  ct_weapon_ump45               122410 non-null  float64\n",
      " 69  t_weapon_ump45                122410 non-null  float64\n",
      " 70  ct_weapon_xm1014              122410 non-null  float64\n",
      " 71  t_weapon_xm1014               122410 non-null  float64\n",
      " 72  ct_weapon_deagle              122410 non-null  float64\n",
      " 73  t_weapon_deagle               122410 non-null  float64\n",
      " 74  ct_weapon_fiveseven           122410 non-null  float64\n",
      " 75  t_weapon_fiveseven            122410 non-null  float64\n",
      " 76  ct_weapon_usps                122410 non-null  float64\n",
      " 77  t_weapon_usps                 122410 non-null  float64\n",
      " 78  ct_weapon_p250                122410 non-null  float64\n",
      " 79  t_weapon_p250                 122410 non-null  float64\n",
      " 80  ct_weapon_p2000               122410 non-null  float64\n",
      " 81  t_weapon_p2000                122410 non-null  float64\n",
      " 82  ct_weapon_tec9                122410 non-null  float64\n",
      " 83  t_weapon_tec9                 122410 non-null  float64\n",
      " 84  ct_grenade_hegrenade          122410 non-null  float64\n",
      " 85  t_grenade_hegrenade           122410 non-null  float64\n",
      " 86  ct_grenade_flashbang          122410 non-null  float64\n",
      " 87  t_grenade_flashbang           122410 non-null  float64\n",
      " 88  ct_grenade_smokegrenade       122410 non-null  float64\n",
      " 89  t_grenade_smokegrenade        122410 non-null  float64\n",
      " 90  ct_grenade_incendiarygrenade  122410 non-null  float64\n",
      " 91  t_grenade_incendiarygrenade   122410 non-null  float64\n",
      " 92  ct_grenade_molotovgrenade     122410 non-null  float64\n",
      " 93  t_grenade_molotovgrenade      122410 non-null  float64\n",
      " 94  ct_grenade_decoygrenade       122410 non-null  float64\n",
      " 95  t_grenade_decoygrenade        122410 non-null  float64\n",
      " 96  round_winner                  122410 non-null  object \n",
      "dtypes: bool(1), float64(94), object(2)\n",
      "memory usage: 89.8+ MB\n"
     ]
    }
   ],
   "source": [
    "df = pd.read_csv('/Users/minyan/Documents/stats780/Project_DS/csgo_round_snapshots.csv')\n",
    "df.info()"
   ]
  },
  {
   "cell_type": "code",
   "execution_count": 36,
   "metadata": {},
   "outputs": [
    {
     "data": {
      "text/plain": [
       "time_left                    0\n",
       "ct_score                     0\n",
       "t_score                      0\n",
       "map                          0\n",
       "bomb_planted                 0\n",
       "                            ..\n",
       "ct_grenade_molotovgrenade    0\n",
       "t_grenade_molotovgrenade     0\n",
       "ct_grenade_decoygrenade      0\n",
       "t_grenade_decoygrenade       0\n",
       "round_winner                 0\n",
       "Length: 97, dtype: int64"
      ]
     },
     "execution_count": 36,
     "metadata": {},
     "output_type": "execute_result"
    }
   ],
   "source": [
    "df.isnull().sum()"
   ]
  },
  {
   "cell_type": "code",
   "execution_count": 37,
   "metadata": {},
   "outputs": [
    {
     "name": "stdout",
     "output_type": "stream",
     "text": [
      "round_winner\n",
      "0    62406\n",
      "1    60004\n",
      "Name: count, dtype: int64\n"
     ]
    }
   ],
   "source": [
    "df['round_winner'] = df['round_winner'].apply(lambda x: 1 if x == 'CT' else 0)\n",
    "print(df['round_winner'].value_counts())"
   ]
  },
  {
   "cell_type": "code",
   "execution_count": 38,
   "metadata": {},
   "outputs": [
    {
     "name": "stderr",
     "output_type": "stream",
     "text": [
      "/Users/minyan/anaconda3/envs/stats780f23/lib/python3.11/site-packages/seaborn/_oldcore.py:1498: FutureWarning: is_categorical_dtype is deprecated and will be removed in a future version. Use isinstance(dtype, CategoricalDtype) instead\n",
      "  if pd.api.types.is_categorical_dtype(vector):\n",
      "/Users/minyan/anaconda3/envs/stats780f23/lib/python3.11/site-packages/seaborn/_oldcore.py:1498: FutureWarning: is_categorical_dtype is deprecated and will be removed in a future version. Use isinstance(dtype, CategoricalDtype) instead\n",
      "  if pd.api.types.is_categorical_dtype(vector):\n",
      "/Users/minyan/anaconda3/envs/stats780f23/lib/python3.11/site-packages/seaborn/_oldcore.py:1498: FutureWarning: is_categorical_dtype is deprecated and will be removed in a future version. Use isinstance(dtype, CategoricalDtype) instead\n",
      "  if pd.api.types.is_categorical_dtype(vector):\n"
     ]
    },
    {
     "data": {
      "text/plain": [
       "<Axes: xlabel='round_winner', ylabel='count'>"
      ]
     },
     "execution_count": 38,
     "metadata": {},
     "output_type": "execute_result"
    },
    {
     "data": {
      "image/png": "[encoded data removed]",
      "text/plain": [
       "<Figure size 640x480 with 1 Axes>"
      ]
     },
     "metadata": {},
     "output_type": "display_data"
    }
   ],
   "source": [
    "sns.countplot(x='round_winner', data=df)"
   ]
  },
  {
   "cell_type": "markdown",
   "metadata": {},
   "source": [
    "# Data preprocessing"
   ]
  },
  {
   "cell_type": "code",
   "execution_count": 39,
   "metadata": {},
   "outputs": [],
   "source": [
    "df['bomb_planted'] = df['bomb_planted'].astype(int)\n",
    "n = 10\n",
    "df_selected = df.iloc[:, list(range(n)) + [-1]]\n",
    "df_selected = df_selected.drop('map', axis=1)"
   ]
  },
  {
   "cell_type": "markdown",
   "metadata": {},
   "source": [
    "## Scaling"
   ]
  },
  {
   "cell_type": "code",
   "execution_count": 40,
   "metadata": {},
   "outputs": [
    {
     "data": {
      "image/png": "[encoded data removed]",
      "text/plain": [
       "<Figure size 1000x800 with 2 Axes>"
      ]
     },
     "metadata": {},
     "output_type": "display_data"
    },
    {
     "name": "stdout",
     "output_type": "stream",
     "text": [
      "<class 'pandas.core.frame.DataFrame'>\n",
      "RangeIndex: 122410 entries, 0 to 122409\n",
      "Data columns (total 9 columns):\n",
      " #   Column        Non-Null Count   Dtype  \n",
      "---  ------        --------------   -----  \n",
      " 0   time_left     122410 non-null  float64\n",
      " 1   ct_score      122410 non-null  float64\n",
      " 2   t_score       122410 non-null  float64\n",
      " 3   ct_health     122410 non-null  float64\n",
      " 4   t_health      122410 non-null  float64\n",
      " 5   ct_armor      122410 non-null  float64\n",
      " 6   t_armor       122410 non-null  float64\n",
      " 7   ct_money      122410 non-null  float64\n",
      " 8   bomb_planted  122410 non-null  int64  \n",
      "dtypes: float64(8), int64(1)\n",
      "memory usage: 8.4 MB\n"
     ]
    },
    {
     "name": "stderr",
     "output_type": "stream",
     "text": [
      "/Users/minyan/anaconda3/envs/stats780f23/lib/python3.11/site-packages/sklearn/utils/validation.py:767: FutureWarning: is_sparse is deprecated and will be removed in a future version. Check `isinstance(dtype, pd.SparseDtype)` instead.\n",
      "  if not hasattr(array, \"sparse\") and array.dtypes.apply(is_sparse).any():\n",
      "/Users/minyan/anaconda3/envs/stats780f23/lib/python3.11/site-packages/sklearn/utils/validation.py:605: FutureWarning: is_sparse is deprecated and will be removed in a future version. Check `isinstance(dtype, pd.SparseDtype)` instead.\n",
      "  if is_sparse(pd_dtype):\n",
      "/Users/minyan/anaconda3/envs/stats780f23/lib/python3.11/site-packages/sklearn/utils/validation.py:614: FutureWarning: is_sparse is deprecated and will be removed in a future version. Check `isinstance(dtype, pd.SparseDtype)` instead.\n",
      "  if is_sparse(pd_dtype) or not is_extension_array_dtype(pd_dtype):\n",
      "/Users/minyan/anaconda3/envs/stats780f23/lib/python3.11/site-packages/sklearn/utils/validation.py:767: FutureWarning: is_sparse is deprecated and will be removed in a future version. Check `isinstance(dtype, pd.SparseDtype)` instead.\n",
      "  if not hasattr(array, \"sparse\") and array.dtypes.apply(is_sparse).any():\n",
      "/Users/minyan/anaconda3/envs/stats780f23/lib/python3.11/site-packages/sklearn/utils/validation.py:605: FutureWarning: is_sparse is deprecated and will be removed in a future version. Check `isinstance(dtype, pd.SparseDtype)` instead.\n",
      "  if is_sparse(pd_dtype):\n",
      "/Users/minyan/anaconda3/envs/stats780f23/lib/python3.11/site-packages/sklearn/utils/validation.py:614: FutureWarning: is_sparse is deprecated and will be removed in a future version. Check `isinstance(dtype, pd.SparseDtype)` instead.\n",
      "  if is_sparse(pd_dtype) or not is_extension_array_dtype(pd_dtype):\n"
     ]
    }
   ],
   "source": [
    "n = 10\n",
    "df_selected = df.iloc[:, list(range(n)) + [-1]]\n",
    "df_selected = df_selected.drop('map', axis=1)\n",
    "\n",
    "X = df_selected.drop(['round_winner', 'bomb_planted'], axis=1)\n",
    "Y = df_selected['round_winner']\n",
    "\n",
    "correlation_matrix = X.corr()\n",
    "plt.figure(figsize=(10, 8))\n",
    "sns.heatmap(correlation_matrix, annot=True, cmap='coolwarm', linewidths=.5)\n",
    "plt.savefig('corr.png')\n",
    "plt.show()\n",
    "\n",
    "from sklearn.preprocessing import StandardScaler\n",
    "std = StandardScaler()\n",
    "std.fit(X)\n",
    "X = pd.DataFrame(std.transform(X), columns=X.columns)\n",
    "X['bomb_planted'] = df_selected['bomb_planted']\n",
    "X.info()\n",
    "#X_pca = pd.DataFrame(scale(df_selected), index=df_selected.index, columns=df_selected.columns)"
   ]
  },
  {
   "cell_type": "markdown",
   "metadata": {},
   "source": [
    "## Spliting"
   ]
  },
  {
   "cell_type": "code",
   "execution_count": 41,
   "metadata": {},
   "outputs": [],
   "source": [
    "X_train, X_test, Y_train, Y_test = train_test_split(X, Y, test_size=0.3, random_state=8964)"
   ]
  },
  {
   "cell_type": "markdown",
   "metadata": {},
   "source": [
    "## PCA"
   ]
  },
  {
   "cell_type": "code",
   "execution_count": 42,
   "metadata": {},
   "outputs": [
    {
     "name": "stderr",
     "output_type": "stream",
     "text": [
      "/Users/minyan/anaconda3/envs/stats780f23/lib/python3.11/site-packages/sklearn/utils/validation.py:767: FutureWarning: is_sparse is deprecated and will be removed in a future version. Check `isinstance(dtype, pd.SparseDtype)` instead.\n",
      "  if not hasattr(array, \"sparse\") and array.dtypes.apply(is_sparse).any():\n",
      "/Users/minyan/anaconda3/envs/stats780f23/lib/python3.11/site-packages/sklearn/utils/validation.py:605: FutureWarning: is_sparse is deprecated and will be removed in a future version. Check `isinstance(dtype, pd.SparseDtype)` instead.\n",
      "  if is_sparse(pd_dtype):\n",
      "/Users/minyan/anaconda3/envs/stats780f23/lib/python3.11/site-packages/sklearn/utils/validation.py:614: FutureWarning: is_sparse is deprecated and will be removed in a future version. Check `isinstance(dtype, pd.SparseDtype)` instead.\n",
      "  if is_sparse(pd_dtype) or not is_extension_array_dtype(pd_dtype):\n"
     ]
    }
   ],
   "source": [
    "from sklearn.decomposition import PCA\n",
    "\n",
    "pca_X = PCA()\n",
    "\n",
    "X_pca = pd.DataFrame(pca_X.fit_transform(X), columns=X.columns, index=X.index)\n",
    "X_pca\n",
    "\n",
    "#Train/test for decision trees\n",
    "X_train_p, X_test_p, Y_train_p, Y_test_p = train_test_split(X_pca, Y, test_size=0.3, random_state=8964)"
   ]
  },
  {
   "cell_type": "markdown",
   "metadata": {},
   "source": [
    "# Decision Tree"
   ]
  },
  {
   "cell_type": "code",
   "execution_count": 43,
   "metadata": {},
   "outputs": [
    {
     "name": "stderr",
     "output_type": "stream",
     "text": [
      "/Users/minyan/anaconda3/envs/stats780f23/lib/python3.11/site-packages/sklearn/utils/validation.py:767: FutureWarning: is_sparse is deprecated and will be removed in a future version. Check `isinstance(dtype, pd.SparseDtype)` instead.\n",
      "  if not hasattr(array, \"sparse\") and array.dtypes.apply(is_sparse).any():\n",
      "/Users/minyan/anaconda3/envs/stats780f23/lib/python3.11/site-packages/sklearn/utils/validation.py:605: FutureWarning: is_sparse is deprecated and will be removed in a future version. Check `isinstance(dtype, pd.SparseDtype)` instead.\n",
      "  if is_sparse(pd_dtype):\n",
      "/Users/minyan/anaconda3/envs/stats780f23/lib/python3.11/site-packages/sklearn/utils/validation.py:614: FutureWarning: is_sparse is deprecated and will be removed in a future version. Check `isinstance(dtype, pd.SparseDtype)` instead.\n",
      "  if is_sparse(pd_dtype) or not is_extension_array_dtype(pd_dtype):\n",
      "/Users/minyan/anaconda3/envs/stats780f23/lib/python3.11/site-packages/sklearn/utils/validation.py:605: FutureWarning: is_sparse is deprecated and will be removed in a future version. Check `isinstance(dtype, pd.SparseDtype)` instead.\n",
      "  if is_sparse(pd_dtype):\n",
      "/Users/minyan/anaconda3/envs/stats780f23/lib/python3.11/site-packages/sklearn/utils/validation.py:614: FutureWarning: is_sparse is deprecated and will be removed in a future version. Check `isinstance(dtype, pd.SparseDtype)` instead.\n",
      "  if is_sparse(pd_dtype) or not is_extension_array_dtype(pd_dtype):\n",
      "/Users/minyan/anaconda3/envs/stats780f23/lib/python3.11/site-packages/sklearn/utils/validation.py:767: FutureWarning: is_sparse is deprecated and will be removed in a future version. Check `isinstance(dtype, pd.SparseDtype)` instead.\n",
      "  if not hasattr(array, \"sparse\") and array.dtypes.apply(is_sparse).any():\n",
      "/Users/minyan/anaconda3/envs/stats780f23/lib/python3.11/site-packages/sklearn/utils/validation.py:605: FutureWarning: is_sparse is deprecated and will be removed in a future version. Check `isinstance(dtype, pd.SparseDtype)` instead.\n",
      "  if is_sparse(pd_dtype):\n",
      "/Users/minyan/anaconda3/envs/stats780f23/lib/python3.11/site-packages/sklearn/utils/validation.py:614: FutureWarning: is_sparse is deprecated and will be removed in a future version. Check `isinstance(dtype, pd.SparseDtype)` instead.\n",
      "  if is_sparse(pd_dtype) or not is_extension_array_dtype(pd_dtype):\n",
      "/Users/minyan/anaconda3/envs/stats780f23/lib/python3.11/site-packages/sklearn/utils/validation.py:605: FutureWarning: is_sparse is deprecated and will be removed in a future version. Check `isinstance(dtype, pd.SparseDtype)` instead.\n",
      "  if is_sparse(pd_dtype):\n",
      "/Users/minyan/anaconda3/envs/stats780f23/lib/python3.11/site-packages/sklearn/utils/validation.py:614: FutureWarning: is_sparse is deprecated and will be removed in a future version. Check `isinstance(dtype, pd.SparseDtype)` instead.\n",
      "  if is_sparse(pd_dtype) or not is_extension_array_dtype(pd_dtype):\n",
      "/Users/minyan/anaconda3/envs/stats780f23/lib/python3.11/site-packages/sklearn/utils/validation.py:605: FutureWarning: is_sparse is deprecated and will be removed in a future version. Check `isinstance(dtype, pd.SparseDtype)` instead.\n",
      "  if is_sparse(pd_dtype):\n",
      "/Users/minyan/anaconda3/envs/stats780f23/lib/python3.11/site-packages/sklearn/utils/validation.py:614: FutureWarning: is_sparse is deprecated and will be removed in a future version. Check `isinstance(dtype, pd.SparseDtype)` instead.\n",
      "  if is_sparse(pd_dtype) or not is_extension_array_dtype(pd_dtype):\n",
      "/Users/minyan/anaconda3/envs/stats780f23/lib/python3.11/site-packages/sklearn/utils/validation.py:605: FutureWarning: is_sparse is deprecated and will be removed in a future version. Check `isinstance(dtype, pd.SparseDtype)` instead.\n",
      "  if is_sparse(pd_dtype):\n",
      "/Users/minyan/anaconda3/envs/stats780f23/lib/python3.11/site-packages/sklearn/utils/validation.py:614: FutureWarning: is_sparse is deprecated and will be removed in a future version. Check `isinstance(dtype, pd.SparseDtype)` instead.\n",
      "  if is_sparse(pd_dtype) or not is_extension_array_dtype(pd_dtype):\n"
     ]
    },
    {
     "data": {
      "text/plain": [
       "0.7345805081284209"
      ]
     },
     "execution_count": 43,
     "metadata": {},
     "output_type": "execute_result"
    }
   ],
   "source": [
    "from sklearn.tree import DecisionTreeClassifier\n",
    "tree=DecisionTreeClassifier(max_depth=16, min_samples_split=80, random_state=8964)\n",
    "tree.fit(X_train_p,Y_train_p)\n",
    "\n",
    "# predictions=tree.predict(X_train)\n",
    "# print(accuracy_score(Y_train,predictions)) # clearly overfitting\n",
    "\n",
    "predictions=tree.predict(X_test_p)\n",
    "tree_score=accuracy_score(Y_test_p,predictions)\n",
    "tree_score"
   ]
  },
  {
   "cell_type": "markdown",
   "metadata": {},
   "source": [
    "# Random Forest"
   ]
  },
  {
   "cell_type": "code",
   "execution_count": 54,
   "metadata": {},
   "outputs": [
    {
     "name": "stderr",
     "output_type": "stream",
     "text": [
      "/Users/minyan/anaconda3/envs/stats780f23/lib/python3.11/site-packages/sklearn/utils/validation.py:767: FutureWarning: is_sparse is deprecated and will be removed in a future version. Check `isinstance(dtype, pd.SparseDtype)` instead.\n",
      "  if not hasattr(array, \"sparse\") and array.dtypes.apply(is_sparse).any():\n",
      "/Users/minyan/anaconda3/envs/stats780f23/lib/python3.11/site-packages/sklearn/utils/validation.py:605: FutureWarning: is_sparse is deprecated and will be removed in a future version. Check `isinstance(dtype, pd.SparseDtype)` instead.\n",
      "  if is_sparse(pd_dtype):\n",
      "/Users/minyan/anaconda3/envs/stats780f23/lib/python3.11/site-packages/sklearn/utils/validation.py:614: FutureWarning: is_sparse is deprecated and will be removed in a future version. Check `isinstance(dtype, pd.SparseDtype)` instead.\n",
      "  if is_sparse(pd_dtype) or not is_extension_array_dtype(pd_dtype):\n",
      "/Users/minyan/anaconda3/envs/stats780f23/lib/python3.11/site-packages/sklearn/utils/validation.py:605: FutureWarning: is_sparse is deprecated and will be removed in a future version. Check `isinstance(dtype, pd.SparseDtype)` instead.\n",
      "  if is_sparse(pd_dtype):\n",
      "/Users/minyan/anaconda3/envs/stats780f23/lib/python3.11/site-packages/sklearn/utils/validation.py:614: FutureWarning: is_sparse is deprecated and will be removed in a future version. Check `isinstance(dtype, pd.SparseDtype)` instead.\n",
      "  if is_sparse(pd_dtype) or not is_extension_array_dtype(pd_dtype):\n",
      "/Users/minyan/anaconda3/envs/stats780f23/lib/python3.11/site-packages/sklearn/utils/validation.py:767: FutureWarning: is_sparse is deprecated and will be removed in a future version. Check `isinstance(dtype, pd.SparseDtype)` instead.\n",
      "  if not hasattr(array, \"sparse\") and array.dtypes.apply(is_sparse).any():\n",
      "/Users/minyan/anaconda3/envs/stats780f23/lib/python3.11/site-packages/sklearn/utils/validation.py:605: FutureWarning: is_sparse is deprecated and will be removed in a future version. Check `isinstance(dtype, pd.SparseDtype)` instead.\n",
      "  if is_sparse(pd_dtype):\n",
      "/Users/minyan/anaconda3/envs/stats780f23/lib/python3.11/site-packages/sklearn/utils/validation.py:614: FutureWarning: is_sparse is deprecated and will be removed in a future version. Check `isinstance(dtype, pd.SparseDtype)` instead.\n",
      "  if is_sparse(pd_dtype) or not is_extension_array_dtype(pd_dtype):\n",
      "/Users/minyan/anaconda3/envs/stats780f23/lib/python3.11/site-packages/sklearn/utils/validation.py:605: FutureWarning: is_sparse is deprecated and will be removed in a future version. Check `isinstance(dtype, pd.SparseDtype)` instead.\n",
      "  if is_sparse(pd_dtype):\n",
      "/Users/minyan/anaconda3/envs/stats780f23/lib/python3.11/site-packages/sklearn/utils/validation.py:614: FutureWarning: is_sparse is deprecated and will be removed in a future version. Check `isinstance(dtype, pd.SparseDtype)` instead.\n",
      "  if is_sparse(pd_dtype) or not is_extension_array_dtype(pd_dtype):\n",
      "/Users/minyan/anaconda3/envs/stats780f23/lib/python3.11/site-packages/sklearn/utils/validation.py:605: FutureWarning: is_sparse is deprecated and will be removed in a future version. Check `isinstance(dtype, pd.SparseDtype)` instead.\n",
      "  if is_sparse(pd_dtype):\n",
      "/Users/minyan/anaconda3/envs/stats780f23/lib/python3.11/site-packages/sklearn/utils/validation.py:614: FutureWarning: is_sparse is deprecated and will be removed in a future version. Check `isinstance(dtype, pd.SparseDtype)` instead.\n",
      "  if is_sparse(pd_dtype) or not is_extension_array_dtype(pd_dtype):\n",
      "/Users/minyan/anaconda3/envs/stats780f23/lib/python3.11/site-packages/sklearn/utils/validation.py:605: FutureWarning: is_sparse is deprecated and will be removed in a future version. Check `isinstance(dtype, pd.SparseDtype)` instead.\n",
      "  if is_sparse(pd_dtype):\n",
      "/Users/minyan/anaconda3/envs/stats780f23/lib/python3.11/site-packages/sklearn/utils/validation.py:614: FutureWarning: is_sparse is deprecated and will be removed in a future version. Check `isinstance(dtype, pd.SparseDtype)` instead.\n",
      "  if is_sparse(pd_dtype) or not is_extension_array_dtype(pd_dtype):\n"
     ]
    },
    {
     "data": {
      "text/plain": [
       "0.753097513819677"
      ]
     },
     "execution_count": 54,
     "metadata": {},
     "output_type": "execute_result"
    }
   ],
   "source": [
    "rf = RandomForestClassifier(n_estimators=100, random_state=8964, max_depth=10)  # For classification\n",
    "rf.fit(X_train_p, Y_train_p)\n",
    "Y_pred = rf.predict(X_test_p)\n",
    "\n",
    "# For classification\n",
    "accuracy = accuracy_score(Y_test_p, Y_pred)\n",
    "accuracy\n",
    "\n",
    "# from sklearn.model_selection import GridSearchCV\n",
    "# rf = RandomForestClassifier(random_state=8964)\n",
    "# param_grid = {\n",
    "#     'min_samples_split': [2, 4, 6, 8, 10]  # You can choose a range of values to test\n",
    "# }\n",
    "# grid_search = GridSearchCV(estimator=rf, param_grid=param_grid, cv=5, scoring='accuracy')\n",
    "# grid_search.fit(X_train_p, Y_train_p)\n",
    "# print(f\"Best Parameter: {grid_search.best_params_}\")\n",
    "# print(f\"Best Score: {grid_search.best_score_}\")\n"
   ]
  },
  {
   "cell_type": "markdown",
   "metadata": {},
   "source": [
    "### Overfitting?"
   ]
  },
  {
   "cell_type": "code",
   "execution_count": 55,
   "metadata": {},
   "outputs": [
    {
     "name": "stderr",
     "output_type": "stream",
     "text": [
      "/Users/minyan/anaconda3/envs/stats780f23/lib/python3.11/site-packages/sklearn/utils/validation.py:767: FutureWarning: is_sparse is deprecated and will be removed in a future version. Check `isinstance(dtype, pd.SparseDtype)` instead.\n",
      "  if not hasattr(array, \"sparse\") and array.dtypes.apply(is_sparse).any():\n",
      "/Users/minyan/anaconda3/envs/stats780f23/lib/python3.11/site-packages/sklearn/utils/validation.py:605: FutureWarning: is_sparse is deprecated and will be removed in a future version. Check `isinstance(dtype, pd.SparseDtype)` instead.\n",
      "  if is_sparse(pd_dtype):\n",
      "/Users/minyan/anaconda3/envs/stats780f23/lib/python3.11/site-packages/sklearn/utils/validation.py:614: FutureWarning: is_sparse is deprecated and will be removed in a future version. Check `isinstance(dtype, pd.SparseDtype)` instead.\n",
      "  if is_sparse(pd_dtype) or not is_extension_array_dtype(pd_dtype):\n",
      "/Users/minyan/anaconda3/envs/stats780f23/lib/python3.11/site-packages/sklearn/utils/validation.py:605: FutureWarning: is_sparse is deprecated and will be removed in a future version. Check `isinstance(dtype, pd.SparseDtype)` instead.\n",
      "  if is_sparse(pd_dtype):\n",
      "/Users/minyan/anaconda3/envs/stats780f23/lib/python3.11/site-packages/sklearn/utils/validation.py:614: FutureWarning: is_sparse is deprecated and will be removed in a future version. Check `isinstance(dtype, pd.SparseDtype)` instead.\n",
      "  if is_sparse(pd_dtype) or not is_extension_array_dtype(pd_dtype):\n",
      "/Users/minyan/anaconda3/envs/stats780f23/lib/python3.11/site-packages/sklearn/utils/validation.py:605: FutureWarning: is_sparse is deprecated and will be removed in a future version. Check `isinstance(dtype, pd.SparseDtype)` instead.\n",
      "  if is_sparse(pd_dtype):\n",
      "/Users/minyan/anaconda3/envs/stats780f23/lib/python3.11/site-packages/sklearn/utils/validation.py:614: FutureWarning: is_sparse is deprecated and will be removed in a future version. Check `isinstance(dtype, pd.SparseDtype)` instead.\n",
      "  if is_sparse(pd_dtype) or not is_extension_array_dtype(pd_dtype):\n",
      "/Users/minyan/anaconda3/envs/stats780f23/lib/python3.11/site-packages/sklearn/utils/validation.py:605: FutureWarning: is_sparse is deprecated and will be removed in a future version. Check `isinstance(dtype, pd.SparseDtype)` instead.\n",
      "  if is_sparse(pd_dtype):\n",
      "/Users/minyan/anaconda3/envs/stats780f23/lib/python3.11/site-packages/sklearn/utils/validation.py:614: FutureWarning: is_sparse is deprecated and will be removed in a future version. Check `isinstance(dtype, pd.SparseDtype)` instead.\n",
      "  if is_sparse(pd_dtype) or not is_extension_array_dtype(pd_dtype):\n"
     ]
    },
    {
     "data": {
      "text/plain": [
       "0.7807835494299018"
      ]
     },
     "execution_count": 55,
     "metadata": {},
     "output_type": "execute_result"
    }
   ],
   "source": [
    "Y_pred_1 = rf.predict(X_train_p)\n",
    "accuracy = accuracy_score(Y_train_p, Y_pred_1)\n",
    "accuracy"
   ]
  },
  {
   "cell_type": "markdown",
   "metadata": {},
   "source": [
    "### Feature Importance"
   ]
  },
  {
   "cell_type": "code",
   "execution_count": 57,
   "metadata": {},
   "outputs": [
    {
     "data": {
      "image/png": "[encoded data removed]",
      "text/plain": [
       "<Figure size 640x480 with 1 Axes>"
      ]
     },
     "metadata": {},
     "output_type": "display_data"
    }
   ],
   "source": [
    "plt.barh(X_train.columns,rf.feature_importances_)\n",
    "plt.savefig('feature.png')"
   ]
  },
  {
   "cell_type": "markdown",
   "metadata": {},
   "source": [
    "## Keras"
   ]
  },
  {
   "cell_type": "code",
   "execution_count": 45,
   "metadata": {},
   "outputs": [
    {
     "name": "stdout",
     "output_type": "stream",
     "text": [
      "Epoch 1/50\n",
      "670/670 [==============================] - 6s 7ms/step - loss: 0.5067 - accuracy: 0.7244 - val_loss: 0.4796 - val_accuracy: 0.7359 - lr: 0.0010\n",
      "Epoch 2/50\n",
      "670/670 [==============================] - 4s 6ms/step - loss: 0.4842 - accuracy: 0.7317 - val_loss: 0.4704 - val_accuracy: 0.7403 - lr: 0.0010\n",
      "Epoch 3/50\n",
      "670/670 [==============================] - 4s 6ms/step - loss: 0.4802 - accuracy: 0.7354 - val_loss: 0.4679 - val_accuracy: 0.7393 - lr: 0.0010\n",
      "Epoch 4/50\n",
      "670/670 [==============================] - 4s 6ms/step - loss: 0.4766 - accuracy: 0.7368 - val_loss: 0.4665 - val_accuracy: 0.7429 - lr: 0.0010\n",
      "Epoch 5/50\n",
      "670/670 [==============================] - 5s 7ms/step - loss: 0.4760 - accuracy: 0.7374 - val_loss: 0.4662 - val_accuracy: 0.7424 - lr: 0.0010\n",
      "Epoch 6/50\n",
      "670/670 [==============================] - 5s 7ms/step - loss: 0.4741 - accuracy: 0.7375 - val_loss: 0.4640 - val_accuracy: 0.7435 - lr: 0.0010\n",
      "Epoch 7/50\n",
      "670/670 [==============================] - 4s 7ms/step - loss: 0.4723 - accuracy: 0.7387 - val_loss: 0.4673 - val_accuracy: 0.7409 - lr: 0.0010\n",
      "Epoch 8/50\n",
      "670/670 [==============================] - 4s 7ms/step - loss: 0.4732 - accuracy: 0.7393 - val_loss: 0.4676 - val_accuracy: 0.7420 - lr: 0.0010\n",
      "Epoch 9/50\n",
      "670/670 [==============================] - 4s 7ms/step - loss: 0.4717 - accuracy: 0.7377 - val_loss: 0.4635 - val_accuracy: 0.7416 - lr: 0.0010\n",
      "Epoch 10/50\n",
      "670/670 [==============================] - 5s 7ms/step - loss: 0.4714 - accuracy: 0.7400 - val_loss: 0.4620 - val_accuracy: 0.7408 - lr: 0.0010\n",
      "Epoch 11/50\n",
      "670/670 [==============================] - 5s 7ms/step - loss: 0.4712 - accuracy: 0.7392 - val_loss: 0.4615 - val_accuracy: 0.7435 - lr: 0.0010\n",
      "Epoch 12/50\n",
      "670/670 [==============================] - 4s 7ms/step - loss: 0.4705 - accuracy: 0.7388 - val_loss: 0.4597 - val_accuracy: 0.7421 - lr: 0.0010\n",
      "Epoch 13/50\n",
      "670/670 [==============================] - 4s 7ms/step - loss: 0.4698 - accuracy: 0.7394 - val_loss: 0.4639 - val_accuracy: 0.7407 - lr: 0.0010\n",
      "Epoch 14/50\n",
      "670/670 [==============================] - 4s 7ms/step - loss: 0.4696 - accuracy: 0.7410 - val_loss: 0.4634 - val_accuracy: 0.7392 - lr: 0.0010\n",
      "Epoch 15/50\n",
      "670/670 [==============================] - 4s 7ms/step - loss: 0.4690 - accuracy: 0.7410 - val_loss: 0.4614 - val_accuracy: 0.7449 - lr: 0.0010\n",
      "Epoch 16/50\n",
      "670/670 [==============================] - 5s 7ms/step - loss: 0.4684 - accuracy: 0.7410 - val_loss: 0.4595 - val_accuracy: 0.7446 - lr: 0.0010\n",
      "Epoch 17/50\n",
      "670/670 [==============================] - 5s 7ms/step - loss: 0.4682 - accuracy: 0.7408 - val_loss: 0.4590 - val_accuracy: 0.7449 - lr: 0.0010\n",
      "Epoch 18/50\n",
      "670/670 [==============================] - 5s 7ms/step - loss: 0.4662 - accuracy: 0.7416 - val_loss: 0.4592 - val_accuracy: 0.7440 - lr: 0.0010\n",
      "Epoch 19/50\n",
      "670/670 [==============================] - 5s 7ms/step - loss: 0.4668 - accuracy: 0.7408 - val_loss: 0.4616 - val_accuracy: 0.7410 - lr: 0.0010\n",
      "Epoch 20/50\n",
      "670/670 [==============================] - 5s 7ms/step - loss: 0.4676 - accuracy: 0.7410 - val_loss: 0.4592 - val_accuracy: 0.7438 - lr: 0.0010\n",
      "Epoch 21/50\n",
      "670/670 [==============================] - 5s 7ms/step - loss: 0.4672 - accuracy: 0.7404 - val_loss: 0.4575 - val_accuracy: 0.7449 - lr: 0.0010\n",
      "Epoch 22/50\n",
      "670/670 [==============================] - 5s 7ms/step - loss: 0.4677 - accuracy: 0.7412 - val_loss: 0.4621 - val_accuracy: 0.7432 - lr: 0.0010\n",
      "Epoch 23/50\n",
      "670/670 [==============================] - 5s 7ms/step - loss: 0.4668 - accuracy: 0.7409 - val_loss: 0.4574 - val_accuracy: 0.7439 - lr: 0.0010\n",
      "Epoch 24/50\n",
      "670/670 [==============================] - 5s 7ms/step - loss: 0.4666 - accuracy: 0.7396 - val_loss: 0.4578 - val_accuracy: 0.7454 - lr: 0.0010\n",
      "Epoch 25/50\n",
      "670/670 [==============================] - 5s 7ms/step - loss: 0.4659 - accuracy: 0.7422 - val_loss: 0.4595 - val_accuracy: 0.7423 - lr: 0.0010\n",
      "Epoch 26/50\n",
      "670/670 [==============================] - 5s 7ms/step - loss: 0.4657 - accuracy: 0.7417 - val_loss: 0.4568 - val_accuracy: 0.7463 - lr: 0.0010\n",
      "Epoch 27/50\n",
      "670/670 [==============================] - 5s 7ms/step - loss: 0.4661 - accuracy: 0.7414 - val_loss: 0.4604 - val_accuracy: 0.7431 - lr: 0.0010\n",
      "Epoch 28/50\n",
      "670/670 [==============================] - 5s 7ms/step - loss: 0.4651 - accuracy: 0.7433 - val_loss: 0.4565 - val_accuracy: 0.7466 - lr: 0.0010\n",
      "Epoch 29/50\n",
      "670/670 [==============================] - 5s 7ms/step - loss: 0.4648 - accuracy: 0.7434 - val_loss: 0.4598 - val_accuracy: 0.7410 - lr: 0.0010\n",
      "Epoch 30/50\n",
      "670/670 [==============================] - 5s 7ms/step - loss: 0.4652 - accuracy: 0.7417 - val_loss: 0.4567 - val_accuracy: 0.7467 - lr: 0.0010\n",
      "Epoch 31/50\n",
      "670/670 [==============================] - 5s 7ms/step - loss: 0.4648 - accuracy: 0.7433 - val_loss: 0.4575 - val_accuracy: 0.7437 - lr: 0.0010\n",
      "Epoch 32/50\n",
      "670/670 [==============================] - 5s 7ms/step - loss: 0.4646 - accuracy: 0.7432 - val_loss: 0.4565 - val_accuracy: 0.7447 - lr: 0.0010\n",
      "Epoch 33/50\n",
      "670/670 [==============================] - 5s 7ms/step - loss: 0.4652 - accuracy: 0.7424 - val_loss: 0.4570 - val_accuracy: 0.7431 - lr: 0.0010\n"
     ]
    }
   ],
   "source": [
    "from tensorflow import keras\n",
    "\n",
    "# Set model parameters\n",
    "n_layers = 4\n",
    "n_nodes = 300\n",
    "regularized = False\n",
    "dropout = True\n",
    "epochs = 50\n",
    "\n",
    "# Make a Keras DNN model\n",
    "model = keras.models.Sequential()\n",
    "model.add(keras.layers.BatchNormalization())\n",
    "for n in range(n_layers):\n",
    "    if regularized:\n",
    "        model.add(keras.layers.Dense(n_nodes, kernel_initializer=\"he_normal\",\n",
    "         kernel_regularizer=keras.regularizers.l1(0.01), use_bias=False))\n",
    "    else:\n",
    "        model.add(keras.layers.Dense(n_nodes,\n",
    "         kernel_initializer=\"he_normal\", use_bias=False))\n",
    "    model.add(keras.layers.BatchNormalization())\n",
    "    model.add(keras.layers.Activation(\"elu\"))\n",
    "    if dropout:\n",
    "        model.add(keras.layers.Dropout(rate=0.2))\n",
    "model.add(keras.layers.Dense(1, activation=\"sigmoid\"))\n",
    "model.compile(loss='binary_crossentropy', optimizer='Nadam', metrics=['accuracy'])\n",
    "\n",
    "# Make a callback that reduces LR on plateau\n",
    "reduce_lr_cb = keras.callbacks.ReduceLROnPlateau(monitor='val_loss', factor=0.2,\n",
    "                                                 patience=5, min_lr=0.001)\n",
    "\n",
    "# Make a callback for early stopping\n",
    "early_stopping_cb = keras.callbacks.EarlyStopping(patience=5)\n",
    "\n",
    "# Train DNN.\n",
    "history = model.fit(np.array(X_train), np.array(Y_train), epochs=epochs,\n",
    "     validation_data=(np.array(X_test), np.array(Y_test)),\n",
    "      callbacks=[reduce_lr_cb, early_stopping_cb], batch_size=128)"
   ]
  },
  {
   "cell_type": "code",
   "execution_count": 46,
   "metadata": {},
   "outputs": [
    {
     "name": "stdout",
     "output_type": "stream",
     "text": [
      "Model: \"sequential_6\"\n",
      "_________________________________________________________________\n",
      " Layer (type)                Output Shape              Param #   \n",
      "=================================================================\n",
      " batch_normalization_31 (Bat  (None, 9)                36        \n",
      " chNormalization)                                                \n",
      "                                                                 \n",
      " dense_31 (Dense)            (None, 300)               2700      \n",
      "                                                                 \n",
      " batch_normalization_32 (Bat  (None, 300)              1200      \n",
      " chNormalization)                                                \n",
      "                                                                 \n",
      " activation_25 (Activation)  (None, 300)               0         \n",
      "                                                                 \n",
      " dropout_25 (Dropout)        (None, 300)               0         \n",
      "                                                                 \n",
      " dense_32 (Dense)            (None, 300)               90000     \n",
      "                                                                 \n",
      " batch_normalization_33 (Bat  (None, 300)              1200      \n",
      " chNormalization)                                                \n",
      "                                                                 \n",
      " activation_26 (Activation)  (None, 300)               0         \n",
      "                                                                 \n",
      " dropout_26 (Dropout)        (None, 300)               0         \n",
      "                                                                 \n",
      " dense_33 (Dense)            (None, 300)               90000     \n",
      "                                                                 \n",
      " batch_normalization_34 (Bat  (None, 300)              1200      \n",
      " chNormalization)                                                \n",
      "                                                                 \n",
      " activation_27 (Activation)  (None, 300)               0         \n",
      "                                                                 \n",
      " dropout_27 (Dropout)        (None, 300)               0         \n",
      "                                                                 \n",
      " dense_34 (Dense)            (None, 300)               90000     \n",
      "                                                                 \n",
      " batch_normalization_35 (Bat  (None, 300)              1200      \n",
      " chNormalization)                                                \n",
      "                                                                 \n",
      " activation_28 (Activation)  (None, 300)               0         \n",
      "                                                                 \n",
      " dropout_28 (Dropout)        (None, 300)               0         \n",
      "                                                                 \n",
      " dense_35 (Dense)            (None, 1)                 301       \n",
      "                                                                 \n",
      "=================================================================\n",
      "Total params: 277,837\n",
      "Trainable params: 275,419\n",
      "Non-trainable params: 2,418\n",
      "_________________________________________________________________\n"
     ]
    }
   ],
   "source": [
    "model.summary()"
   ]
  },
  {
   "cell_type": "code",
   "execution_count": 47,
   "metadata": {},
   "outputs": [
    {
     "name": "stdout",
     "output_type": "stream",
     "text": [
      "1148/1148 [==============================] - 1s 778us/step - loss: 0.4570 - accuracy: 0.7431\n"
     ]
    },
    {
     "data": {
      "text/plain": [
       "[0.45697471499443054, 0.7430765628814697]"
      ]
     },
     "execution_count": 47,
     "metadata": {},
     "output_type": "execute_result"
    }
   ],
   "source": [
    "model.evaluate(X_test, Y_test)"
   ]
  }
 ],
 "metadata": {
  "kernelspec": {
   "display_name": "stats780f23",
   "language": "python",
   "name": "python3"
  },
  "language_info": {
   "codemirror_mode": {
    "name": "ipython",
    "version": 3
   },
   "file_extension": ".py",
   "mimetype": "text/x-python",
   "name": "python",
   "nbconvert_exporter": "python",
   "pygments_lexer": "ipython3",
   "version": "3.11.5"
  }
 },
 "nbformat": 4,
 "nbformat_minor": 2
}
